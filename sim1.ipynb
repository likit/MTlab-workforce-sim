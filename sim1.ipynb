{
 "cells": [
  {
   "cell_type": "markdown",
   "id": "3341ca23-3c28-463e-968d-b9455c83a62b",
   "metadata": {},
   "source": [
    "# The first prototype"
   ]
  },
  {
   "cell_type": "code",
   "execution_count": 24,
   "id": "1b59c819-3105-4ca4-bf54-a648aa180e7b",
   "metadata": {},
   "outputs": [],
   "source": [
    "import simpy\n",
    "import uuid"
   ]
  },
  {
   "cell_type": "code",
   "execution_count": 29,
   "id": "d46b1219-8e88-4479-9b78-a8d993fd7278",
   "metadata": {},
   "outputs": [],
   "source": [
    "def generate_random_labno(number=10):\n",
    "    return [str(uuid.uuid4()) for i in range(number)]"
   ]
  },
  {
   "cell_type": "code",
   "execution_count": 125,
   "id": "167f8d0b-55db-44d8-9cde-06fe4747edc1",
   "metadata": {},
   "outputs": [],
   "source": [
    "def specimens(env, staff, labno, transport_time):\n",
    "    '''Check and evaluate an order and specimens.\n",
    "    '''\n",
    "    ln = labno[:8]\n",
    "    yield env.timeout(transport_time)\n",
    "    print(f'{ln} arrived at {env.now}')\n",
    "    with staff.request() as req:\n",
    "        print(f'{ln} waiting for the staff at {env.now}..')\n",
    "        yield req\n",
    "        print(f'staff is available.')\n",
    "        print(f'Start scanning specimens {ln} at {env.now}..')\n",
    "        yield env.timeout(5)\n",
    "        print(f'{ln} Finished scanning at {env.now}')"
   ]
  },
  {
   "cell_type": "code",
   "execution_count": 126,
   "id": "22f3e959-fceb-4993-9247-5d58a19b3606",
   "metadata": {},
   "outputs": [],
   "source": [
    "env = simpy.Environment()"
   ]
  },
  {
   "cell_type": "code",
   "execution_count": 127,
   "id": "14516e07-8912-4433-b8ad-3a0a2ab68562",
   "metadata": {},
   "outputs": [],
   "source": [
    "mt_staff = simpy.Resource(env, capacity=2)"
   ]
  },
  {
   "cell_type": "code",
   "execution_count": 128,
   "id": "cae11e77-78fc-4645-9ace-085efc79310a",
   "metadata": {},
   "outputs": [],
   "source": [
    "for n, labno in enumerate(generate_random_labno(3), start=1):\n",
    "    env.process(specimens(env, mt_staff, labno, n*3))"
   ]
  },
  {
   "cell_type": "code",
   "execution_count": 129,
   "id": "99952386-796f-4b47-bcb3-289dfc64a99f",
   "metadata": {},
   "outputs": [
    {
     "name": "stdout",
     "output_type": "stream",
     "text": [
      "afd0b0f1 arrived at 3\n",
      "afd0b0f1 waiting for the staff at 3..\n",
      "staff is available.\n",
      "Start scanning specimens afd0b0f1 at 3..\n",
      "9c33f1ca arrived at 6\n",
      "9c33f1ca waiting for the staff at 6..\n",
      "staff is available.\n",
      "Start scanning specimens 9c33f1ca at 6..\n",
      "afd0b0f1 Finished scanning at 8\n",
      "b406f2b2 arrived at 9\n",
      "b406f2b2 waiting for the staff at 9..\n",
      "staff is available.\n",
      "Start scanning specimens b406f2b2 at 9..\n",
      "9c33f1ca Finished scanning at 11\n",
      "b406f2b2 Finished scanning at 14\n"
     ]
    }
   ],
   "source": [
    "env.run()"
   ]
  },
  {
   "cell_type": "code",
   "execution_count": null,
   "id": "ce0e4691-7df6-45ac-ac59-3ee7e147a634",
   "metadata": {},
   "outputs": [],
   "source": []
  }
 ],
 "metadata": {
  "kernelspec": {
   "display_name": "Python 3 (ipykernel)",
   "language": "python",
   "name": "python3"
  },
  "language_info": {
   "codemirror_mode": {
    "name": "ipython",
    "version": 3
   },
   "file_extension": ".py",
   "mimetype": "text/x-python",
   "name": "python",
   "nbconvert_exporter": "python",
   "pygments_lexer": "ipython3",
   "version": "3.11.4"
  }
 },
 "nbformat": 4,
 "nbformat_minor": 5
}
