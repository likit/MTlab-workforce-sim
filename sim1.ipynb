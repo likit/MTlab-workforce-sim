{
 "cells": [
  {
   "cell_type": "markdown",
   "id": "3341ca23-3c28-463e-968d-b9455c83a62b",
   "metadata": {},
   "source": [
    "# The first prototype"
   ]
  },
  {
   "cell_type": "code",
   "execution_count": 18,
   "id": "1b59c819-3105-4ca4-bf54-a648aa180e7b",
   "metadata": {},
   "outputs": [],
   "source": [
    "import simpy\n",
    "import uuid\n",
    "import random"
   ]
  },
  {
   "cell_type": "code",
   "execution_count": 38,
   "id": "d46b1219-8e88-4479-9b78-a8d993fd7278",
   "metadata": {},
   "outputs": [],
   "source": [
    "def generate_random_labno(number=10):\n",
    "    return [str(uuid.uuid4()) for i in range(number)]"
   ]
  },
  {
   "cell_type": "code",
   "execution_count": 39,
   "id": "167f8d0b-55db-44d8-9cde-06fe4747edc1",
   "metadata": {},
   "outputs": [],
   "source": [
    "def specimens(env, staff, labno, transport_time):\n",
    "    '''Check and evaluate an order and specimens.\n",
    "    '''\n",
    "    ln = labno[:8]\n",
    "    yield env.timeout(transport_time)\n",
    "    print(f'{ln} arrived at {env.now}')\n",
    "    with staff.request() as req:\n",
    "        print(f'{ln} waiting for the staff at {env.now}..')\n",
    "        yield req\n",
    "        print(f'staff is available.')\n",
    "        print(f'Start scanning specimens {ln} at {env.now}..')\n",
    "        yield env.timeout(5)\n",
    "        print(f'{ln} Finished scanning at {env.now}')"
   ]
  },
  {
   "cell_type": "code",
   "execution_count": 63,
   "id": "22f3e959-fceb-4993-9247-5d58a19b3606",
   "metadata": {},
   "outputs": [],
   "source": [
    "env = simpy.Environment()"
   ]
  },
  {
   "cell_type": "code",
   "execution_count": 64,
   "id": "14516e07-8912-4433-b8ad-3a0a2ab68562",
   "metadata": {},
   "outputs": [],
   "source": [
    "mt_staff = simpy.Resource(env, capacity=2)"
   ]
  },
  {
   "cell_type": "code",
   "execution_count": 65,
   "id": "80e8b488-254c-4546-9e94-62a5764eb728",
   "metadata": {},
   "outputs": [],
   "source": [
    "wards = {\n",
    "    'ER': 0,\n",
    "    'IPD': 0,\n",
    "    'OPD': 0\n",
    "}"
   ]
  },
  {
   "cell_type": "code",
   "execution_count": 66,
   "id": "cae11e77-78fc-4645-9ace-085efc79310a",
   "metadata": {},
   "outputs": [
    {
     "name": "stdout",
     "output_type": "stream",
     "text": [
      "{'ER': 2, 'IPD': 0, 'OPD': 0}\n",
      "{'ER': 2, 'IPD': 6, 'OPD': 0}\n",
      "{'ER': 4, 'IPD': 6, 'OPD': 0}\n",
      "{'ER': 4, 'IPD': 6, 'OPD': 0}\n",
      "{'ER': 4, 'IPD': 6, 'OPD': 0}\n",
      "{'ER': 4, 'IPD': 6, 'OPD': 0}\n",
      "{'ER': 4, 'IPD': 6, 'OPD': 2}\n",
      "{'ER': 4, 'IPD': 6, 'OPD': 4}\n",
      "{'ER': 4, 'IPD': 6, 'OPD': 4}\n",
      "{'ER': 4, 'IPD': 12, 'OPD': 4}\n"
     ]
    }
   ],
   "source": [
    "for n, labno in enumerate(generate_random_labno(10), start=1):\n",
    "    ward = random.choice(list(wards.keys()))\n",
    "    current_time = wards[ward]\n",
    "    if current_time == 0:\n",
    "        current_time = random.randrange(0, 9)\n",
    "        arriving_time = current_time\n",
    "    else:\n",
    "        arriving_time = current_time * random.randrange(1,3)\n",
    "    wards[ward] = arriving_time\n",
    "    print(wards)\n",
    "    env.process(specimens(env, mt_staff, labno, arriving_time))"
   ]
  },
  {
   "cell_type": "code",
   "execution_count": 67,
   "id": "99952386-796f-4b47-bcb3-289dfc64a99f",
   "metadata": {},
   "outputs": [
    {
     "name": "stdout",
     "output_type": "stream",
     "text": [
      "2bf25bc6 arrived at 0\n",
      "2bf25bc6 waiting for the staff at 0..\n",
      "staff is available.\n",
      "Start scanning specimens 2bf25bc6 at 0..\n",
      "a1e61ec1 arrived at 2\n",
      "a1e61ec1 waiting for the staff at 2..\n",
      "98e8a60d arrived at 2\n",
      "98e8a60d waiting for the staff at 2..\n",
      "staff is available.\n",
      "Start scanning specimens a1e61ec1 at 2..\n",
      "a982b53c arrived at 4\n",
      "a982b53c waiting for the staff at 4..\n",
      "eee74922 arrived at 4\n",
      "eee74922 waiting for the staff at 4..\n",
      "f1b5dee9 arrived at 4\n",
      "f1b5dee9 waiting for the staff at 4..\n",
      "ea96e4bd arrived at 4\n",
      "ea96e4bd waiting for the staff at 4..\n",
      "2bf25bc6 Finished scanning at 5\n",
      "staff is available.\n",
      "Start scanning specimens 98e8a60d at 5..\n",
      "65d6165c arrived at 6\n",
      "65d6165c waiting for the staff at 6..\n",
      "35ddb8fd arrived at 6\n",
      "35ddb8fd waiting for the staff at 6..\n",
      "a1e61ec1 Finished scanning at 7\n",
      "staff is available.\n",
      "Start scanning specimens a982b53c at 7..\n",
      "98e8a60d Finished scanning at 10\n",
      "staff is available.\n",
      "Start scanning specimens eee74922 at 10..\n",
      "f03a9bd3 arrived at 12\n",
      "f03a9bd3 waiting for the staff at 12..\n",
      "a982b53c Finished scanning at 12\n",
      "staff is available.\n",
      "Start scanning specimens f1b5dee9 at 12..\n",
      "eee74922 Finished scanning at 15\n",
      "staff is available.\n",
      "Start scanning specimens ea96e4bd at 15..\n",
      "f1b5dee9 Finished scanning at 17\n",
      "staff is available.\n",
      "Start scanning specimens 65d6165c at 17..\n",
      "ea96e4bd Finished scanning at 20\n",
      "staff is available.\n",
      "Start scanning specimens 35ddb8fd at 20..\n",
      "65d6165c Finished scanning at 22\n",
      "staff is available.\n",
      "Start scanning specimens f03a9bd3 at 22..\n",
      "35ddb8fd Finished scanning at 25\n",
      "f03a9bd3 Finished scanning at 27\n"
     ]
    }
   ],
   "source": [
    "env.run()"
   ]
  },
  {
   "cell_type": "code",
   "execution_count": null,
   "id": "ce0e4691-7df6-45ac-ac59-3ee7e147a634",
   "metadata": {},
   "outputs": [],
   "source": []
  }
 ],
 "metadata": {
  "kernelspec": {
   "display_name": "Python 3 (ipykernel)",
   "language": "python",
   "name": "python3"
  },
  "language_info": {
   "codemirror_mode": {
    "name": "ipython",
    "version": 3
   },
   "file_extension": ".py",
   "mimetype": "text/x-python",
   "name": "python",
   "nbconvert_exporter": "python",
   "pygments_lexer": "ipython3",
   "version": "3.11.4"
  }
 },
 "nbformat": 4,
 "nbformat_minor": 5
}
